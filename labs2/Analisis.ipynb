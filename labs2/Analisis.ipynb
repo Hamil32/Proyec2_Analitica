{
 "cells": [
  {
   "attachments": {},
   "cell_type": "markdown",
   "metadata": {},
   "source": [
    "                Introduccion S&P 500    (2000 - 2023)"
   ]
  },
  {
   "attachments": {},
   "cell_type": "markdown",
   "metadata": {},
   "source": [
    "Desde el año 2000 hasta el presente, el índice S&P 500 ha experimentado diferentes ciclos y movimientos en el mercado de valores. Aquí hay un análisis de la situación del S&P 500 en este período, y algunas recomendaciones de inversión.\n",
    "\n",
    "En el año 2000, se produjo la burbuja tecnológica y muchas empresas de tecnología experimentaron fuertes caídas. El índice S&P 500 también cayó significativamente en este período. Desde entonces, el índice ha experimentado varios ciclos de crecimiento y recesión.\n",
    "\n",
    "En el año 2008, el índice S&P 500 experimentó una fuerte caída debido a la crisis financiera mundial, donde muchas empresas financieras fueron afectadas. Desde entonces, el índice se ha recuperado y ha experimentado un crecimiento constante, alcanzando niveles históricos en los últimos años.\n",
    "\n",
    "En los últimos años, el índice ha experimentado una mayor volatilidad debido a la incertidumbre política y económica en los Estados Unidos. La pandemia de COVID-19 en 2020 también tuvo un impacto significativo en el mercado de valores, con una fuerte caída en marzo de ese año, seguida de una recuperación rápida.\n",
    "\n",
    "En general, el S&P 500 ha sido un buen indicador del rendimiento del mercado de valores estadounidense en las últimas dos décadas. Para los inversores, puede ser una buena opción invertir en un fondo indexado que rastree el S&P 500, ya que esto puede proporcionar una buena exposición al mercado de valores estadounidense.\n",
    "\n",
    "Además, es importante tener en cuenta la diversificación de la cartera de inversiones. Invertir en diferentes sectores y clases de activos, incluyendo acciones internacionales y bonos, puede ayudar a reducir el riesgo y aumentar el potencial de rendimiento a largo plazo.\n",
    "\n",
    "También es importante tener en cuenta las tendencias a largo plazo en el mercado de valores. Las empresas de tecnología y de salud han sido líderes en el crecimiento del S&P 500 en los últimos años, y es probable que continúen siendo importantes en el futuro. Sin embargo, también es importante prestar atención a las tendencias emergentes en sectores como la energía renovable y la inteligencia artificial, que pueden ofrecer oportunidades de inversión a largo plazo.\n"
   ]
  },
  {
   "attachments": {},
   "cell_type": "markdown",
   "metadata": {},
   "source": [
    "            Analisis S&P 500\n",
    "                pero antes...\n",
    "            Expondre brevemente la Teoria Dow:"
   ]
  },
  {
   "attachments": {},
   "cell_type": "markdown",
   "metadata": {},
   "source": [
    "La teoría de Dow es un enfoque de análisis técnico para predecir las tendencias del mercado. Fue desarrollado por Charles Dow a finales del siglo XIX y se basa en la idea de que los precios de los activos reflejan todas las noticias y eventos relevantes. La teoría sostiene que los mercados se mueven en tendencias alcistas, bajistas o laterales, y que estas tendencias se pueden identificar a través de la observación de los movimientos de los precios y los volúmenes de negociación. Además, la teoría de Dow establece que las tendencias suelen tener tres fases: una fase de acumulación, una fase de impulso y una fase de distribución."
   ]
  },
  {
   "attachments": {},
   "cell_type": "markdown",
   "metadata": {},
   "source": [
    "            Analisis tecnico S&P 500"
   ]
  },
  {
   "attachments": {},
   "cell_type": "markdown",
   "metadata": {},
   "source": [
    " En el siguiente grafico se puede nota a el indice S&P 500 en un grafico de velas japonesas en temporalidad mensual."
   ]
  },
  {
   "attachments": {},
   "cell_type": "markdown",
   "metadata": {},
   "source": [
    "![Alt text](S&P500GRAFICO.png)"
   ]
  },
  {
   "attachments": {},
   "cell_type": "markdown",
   "metadata": {},
   "source": [
    "En este grafico vamos a prestar  atencion en el rango de fecha 2009-02-02 hasta el 2021-12-01\n",
    "Podemos ver claramente una tendencia alcista con un angulo en la tendencia de 46° algo q es muy saludable.\n",
    "Luego vamos a prestar atencion en una fraccion de ese periodo en fecha 2020-03, donde se ve muy pronunciada esa tendencia, si verificamos su angulo nos muestra que es de 79° algo que es muy dificil de sostener, lo cual produce un retroceso del 50% para el 2022-09 algo muy normal para una subida tan brusca.\n",
    "Y a continuacio se pede notar que se esta produciondo un patron ABC lo que me alerta a un posible hecho lateral o de consolidacion en el precio que estaria rondando en rango de los $3632 a $4200.\n",
    "Otro indicador muy importante usado en este analisis es la EMA (Exponential Moving Average) ya que se puede observar que cuando el precio a alcanzado a tocar esa linea (color=azul)su comportado fue a traves de impulsos y en busca de nuevos maximos.\n",
    "Observacion: a traves de este analisis podemos considerar que entrar en LONG a precios de $3700 podria ofrecer beneficios de 28% por cada dolar invertivo si buscamos salirnos en zona de maximo cercanos a los $4750. En cuanto al tiempo podriamos hacer una aproximacion a la fecha de en el año 2025. Lo que indicaria una rentablidad anual al 14%."
   ]
  },
  {
   "attachments": {},
   "cell_type": "markdown",
   "metadata": {},
   "source": [
    "            RECOMENDACION ESTRATEGICA DE INVERSION"
   ]
  },
  {
   "attachments": {},
   "cell_type": "markdown",
   "metadata": {},
   "source": [
    "Despues de comparar los datos de las 5 empresas mas representativas del indice S&P 500 (Apple= AAPL, Microsoft=MSFT, Amazon=AMZN, Tesla=TSLA, Facebook=META)\n",
    "Estamos listo para hacer una recomendacion para nuestra empresa que busca incrementar sus beneficios exponencialmente a bajo riego.\n",
    "Para ello recomendamos una estrategia de indexacion con un toque mas activo en las empresas anteriormente mencionadas.\n",
    "La compocion de la cartera seria 50% = SPY, 10% = AAPL, 10% MSFT, 10% = AMNZ, 10% = TSLA, 10% = META.\n",
    "Esta estrategia busca generar rendimientos del 20% anual.\n",
    "Esto lo hemos determinado asi ya que estas 5 empresas componen el 75% del valor del indice S&P500. (Utilizamos el cruce de la media movil 20 sobre los precios de cotizacion para determinar si se esta comprando barato o no)"
   ]
  }
 ],
 "metadata": {
  "language_info": {
   "name": "python"
  },
  "orig_nbformat": 4
 },
 "nbformat": 4,
 "nbformat_minor": 2
}
