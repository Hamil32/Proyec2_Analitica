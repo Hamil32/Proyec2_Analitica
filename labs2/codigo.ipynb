{
 "cells": [
  {
   "cell_type": "code",
   "execution_count": 7,
   "metadata": {},
   "outputs": [],
   "source": [
    "import yfinance as yf\n",
    "import pandas as pd"
   ]
  },
  {
   "cell_type": "code",
   "execution_count": 3,
   "metadata": {},
   "outputs": [
    {
     "name": "stdout",
     "output_type": "stream",
     "text": [
      "[*********************100%***********************]  1 of 1 completed\n"
     ]
    }
   ],
   "source": [
    "data = yf.download(\"SPY\", start=\"2000-01-01\", end=\"2023-03-01\")"
   ]
  },
  {
   "cell_type": "code",
   "execution_count": 76,
   "metadata": {},
   "outputs": [],
   "source": [
    "data.to_csv('spy500.csv', encoding='utf-8')"
   ]
  },
  {
   "cell_type": "code",
   "execution_count": 28,
   "metadata": {},
   "outputs": [
    {
     "data": {
      "text/plain": [
       "<bound method NDFrame.head of                   Open        High         Low       Close   Adj Close  \\\n",
       "Date                                                                     \n",
       "2000-01-03  148.250000  148.250000  143.875000  145.437500   94.946419   \n",
       "2000-01-04  143.531250  144.062500  139.640625  139.750000   91.233467   \n",
       "2000-01-05  139.937500  141.531250  137.250000  140.000000   91.396698   \n",
       "2000-01-06  139.625000  141.500000  137.750000  137.750000   89.927795   \n",
       "2000-01-07  140.312500  145.750000  140.062500  145.750000   95.150475   \n",
       "...                ...         ...         ...         ...         ...   \n",
       "2023-02-22  399.519989  401.130005  397.019989  398.540009  397.024750   \n",
       "2023-02-23  401.559998  402.200012  396.250000  400.660004  399.136688   \n",
       "2023-02-24  395.420013  397.250000  393.640015  396.380005  394.872955   \n",
       "2023-02-27  399.869995  401.290009  396.750000  397.730011  396.217834   \n",
       "2023-02-28  397.230011  399.279999  396.149994  396.260010  394.753418   \n",
       "\n",
       "               Volume  \n",
       "Date                   \n",
       "2000-01-03    8164300  \n",
       "2000-01-04    8089800  \n",
       "2000-01-05   12177900  \n",
       "2000-01-06    6227200  \n",
       "2000-01-07    8066500  \n",
       "...               ...  \n",
       "2023-02-22   83742300  \n",
       "2023-02-23   96242400  \n",
       "2023-02-24  108194400  \n",
       "2023-02-27   80444700  \n",
       "2023-02-28   96438600  \n",
       "\n",
       "[5826 rows x 6 columns]>"
      ]
     },
     "execution_count": 28,
     "metadata": {},
     "output_type": "execute_result"
    }
   ],
   "source": [
    "data.head"
   ]
  },
  {
   "cell_type": "code",
   "execution_count": 11,
   "metadata": {},
   "outputs": [],
   "source": [
    "dfaapl = pd.read_csv ('./data5empresas/aapl.csv')\n",
    "dfamzn = pd.read_csv ('./data5empresas/amzn.csv')\n",
    "dfmeta = pd.read_csv ('./data5empresas/meta.csv')\n",
    "dfmsft = pd.read_csv ('./data5empresas/msft.csv')\n",
    "dftsla = pd.read_csv ('./data5empresas/tsla.csv')"
   ]
  },
  {
   "cell_type": "code",
   "execution_count": 38,
   "metadata": {},
   "outputs": [],
   "source": [
    "apple = dfaapl.drop(columns = ['Open','High','Low','Adj Close','Volume'])\n",
    "amazon = dfamzn.drop(columns = ['Date','Open','High','Low','Adj Close','Volume'])\n",
    "meta = dfmeta.drop(columns = ['Date','Open','High','Low','Adj Close','Volume'])\n",
    "microsoft = dfmsft.drop(columns = ['Date','Open','High','Low','Adj Close','Volume'])\n",
    "tesla = dftsla.drop(columns = ['Date','Open','High','Low','Adj Close','Volume'])"
   ]
  },
  {
   "cell_type": "code",
   "execution_count": 47,
   "metadata": {},
   "outputs": [],
   "source": [
    "apple.rename(columns={'Date': 'Fecha'},inplace=True)\n",
    "apple.rename(columns={'Close': 'Apple'},inplace=True)\n",
    "amazon.rename(columns={'Close': 'Amazon'},inplace=True)\n",
    "meta.rename(columns={'Close': 'Meta'},inplace=True)\n",
    "microsoft.rename(columns={'Close': 'Microsoft'},inplace=True)\n",
    "tesla.rename(columns={'Close': 'Tesla'},inplace=True)\n"
   ]
  },
  {
   "cell_type": "code",
   "execution_count": 49,
   "metadata": {},
   "outputs": [],
   "source": [
    "### concatenar \n",
    "dfCompleto=pd.concat([apple,amazon,meta,tesla, microsoft], axis=1)"
   ]
  },
  {
   "cell_type": "code",
   "execution_count": 74,
   "metadata": {},
   "outputs": [],
   "source": [
    "dfCompleto.to_csv('completo.csv', encoding='utf-8')"
   ]
  },
  {
   "cell_type": "code",
   "execution_count": 75,
   "metadata": {},
   "outputs": [
    {
     "data": {
      "text/html": [
       "<div>\n",
       "<style scoped>\n",
       "    .dataframe tbody tr th:only-of-type {\n",
       "        vertical-align: middle;\n",
       "    }\n",
       "\n",
       "    .dataframe tbody tr th {\n",
       "        vertical-align: top;\n",
       "    }\n",
       "\n",
       "    .dataframe thead th {\n",
       "        text-align: right;\n",
       "    }\n",
       "</style>\n",
       "<table border=\"1\" class=\"dataframe\">\n",
       "  <thead>\n",
       "    <tr style=\"text-align: right;\">\n",
       "      <th></th>\n",
       "      <th>Fecha</th>\n",
       "      <th>Apple</th>\n",
       "      <th>Amazon</th>\n",
       "      <th>Meta</th>\n",
       "      <th>Tesla</th>\n",
       "      <th>Microsoft</th>\n",
       "    </tr>\n",
       "  </thead>\n",
       "  <tbody>\n",
       "    <tr>\n",
       "      <th>0</th>\n",
       "      <td>2019-01-02</td>\n",
       "      <td>39.480000</td>\n",
       "      <td>76.956497</td>\n",
       "      <td>135.679993</td>\n",
       "      <td>20.674667</td>\n",
       "      <td>101.120003</td>\n",
       "    </tr>\n",
       "    <tr>\n",
       "      <th>1</th>\n",
       "      <td>2019-01-03</td>\n",
       "      <td>35.547501</td>\n",
       "      <td>75.014000</td>\n",
       "      <td>131.740005</td>\n",
       "      <td>20.024000</td>\n",
       "      <td>97.400002</td>\n",
       "    </tr>\n",
       "    <tr>\n",
       "      <th>2</th>\n",
       "      <td>2019-01-04</td>\n",
       "      <td>37.064999</td>\n",
       "      <td>78.769501</td>\n",
       "      <td>137.949997</td>\n",
       "      <td>21.179333</td>\n",
       "      <td>101.930000</td>\n",
       "    </tr>\n",
       "    <tr>\n",
       "      <th>3</th>\n",
       "      <td>2019-01-07</td>\n",
       "      <td>36.982498</td>\n",
       "      <td>81.475502</td>\n",
       "      <td>138.050003</td>\n",
       "      <td>22.330667</td>\n",
       "      <td>102.059998</td>\n",
       "    </tr>\n",
       "    <tr>\n",
       "      <th>4</th>\n",
       "      <td>2019-01-08</td>\n",
       "      <td>37.687500</td>\n",
       "      <td>82.829002</td>\n",
       "      <td>142.529999</td>\n",
       "      <td>22.356667</td>\n",
       "      <td>102.800003</td>\n",
       "    </tr>\n",
       "    <tr>\n",
       "      <th>...</th>\n",
       "      <td>...</td>\n",
       "      <td>...</td>\n",
       "      <td>...</td>\n",
       "      <td>...</td>\n",
       "      <td>...</td>\n",
       "      <td>...</td>\n",
       "    </tr>\n",
       "    <tr>\n",
       "      <th>1042</th>\n",
       "      <td>2023-02-22</td>\n",
       "      <td>148.910004</td>\n",
       "      <td>95.790001</td>\n",
       "      <td>171.119995</td>\n",
       "      <td>200.860001</td>\n",
       "      <td>251.509995</td>\n",
       "    </tr>\n",
       "    <tr>\n",
       "      <th>1043</th>\n",
       "      <td>2023-02-23</td>\n",
       "      <td>149.399994</td>\n",
       "      <td>95.820000</td>\n",
       "      <td>172.039993</td>\n",
       "      <td>202.070007</td>\n",
       "      <td>254.770004</td>\n",
       "    </tr>\n",
       "    <tr>\n",
       "      <th>1044</th>\n",
       "      <td>2023-02-24</td>\n",
       "      <td>146.710007</td>\n",
       "      <td>93.500000</td>\n",
       "      <td>170.389999</td>\n",
       "      <td>196.880005</td>\n",
       "      <td>249.220001</td>\n",
       "    </tr>\n",
       "    <tr>\n",
       "      <th>1045</th>\n",
       "      <td>2023-02-27</td>\n",
       "      <td>147.919998</td>\n",
       "      <td>93.760002</td>\n",
       "      <td>169.539993</td>\n",
       "      <td>207.630005</td>\n",
       "      <td>250.160004</td>\n",
       "    </tr>\n",
       "    <tr>\n",
       "      <th>1046</th>\n",
       "      <td>2023-02-28</td>\n",
       "      <td>147.410004</td>\n",
       "      <td>94.230003</td>\n",
       "      <td>174.940002</td>\n",
       "      <td>205.710007</td>\n",
       "      <td>249.419998</td>\n",
       "    </tr>\n",
       "  </tbody>\n",
       "</table>\n",
       "<p>1047 rows × 6 columns</p>\n",
       "</div>"
      ],
      "text/plain": [
       "           Fecha       Apple     Amazon        Meta       Tesla   Microsoft\n",
       "0     2019-01-02   39.480000  76.956497  135.679993   20.674667  101.120003\n",
       "1     2019-01-03   35.547501  75.014000  131.740005   20.024000   97.400002\n",
       "2     2019-01-04   37.064999  78.769501  137.949997   21.179333  101.930000\n",
       "3     2019-01-07   36.982498  81.475502  138.050003   22.330667  102.059998\n",
       "4     2019-01-08   37.687500  82.829002  142.529999   22.356667  102.800003\n",
       "...          ...         ...        ...         ...         ...         ...\n",
       "1042  2023-02-22  148.910004  95.790001  171.119995  200.860001  251.509995\n",
       "1043  2023-02-23  149.399994  95.820000  172.039993  202.070007  254.770004\n",
       "1044  2023-02-24  146.710007  93.500000  170.389999  196.880005  249.220001\n",
       "1045  2023-02-27  147.919998  93.760002  169.539993  207.630005  250.160004\n",
       "1046  2023-02-28  147.410004  94.230003  174.940002  205.710007  249.419998\n",
       "\n",
       "[1047 rows x 6 columns]"
      ]
     },
     "execution_count": 75,
     "metadata": {},
     "output_type": "execute_result"
    }
   ],
   "source": [
    "dfCompleto"
   ]
  },
  {
   "cell_type": "code",
   "execution_count": 66,
   "metadata": {},
   "outputs": [
    {
     "name": "stdout",
     "output_type": "stream",
     "text": [
      "111.95781749663404\n",
      "125.3499984741211\n",
      "0    145.860001\n",
      "Name: Apple, dtype: float64\n"
     ]
    }
   ],
   "source": [
    "print(dfCompleto['Apple'].mean())\n",
    "print(dfCompleto['Apple'].median())\n",
    "print(dfCompleto['Apple'].mode())\n",
    "\n"
   ]
  },
  {
   "cell_type": "code",
   "execution_count": 67,
   "metadata": {},
   "outputs": [
    {
     "name": "stdout",
     "output_type": "stream",
     "text": [
      "127.99395266644935\n",
      "123.6999969482422\n",
      "0     81.820000\n",
      "1     90.233002\n",
      "2     90.391998\n",
      "3     92.765999\n",
      "4     94.129997\n",
      "5     96.050003\n",
      "6    100.550003\n",
      "7    152.601501\n",
      "8    166.100006\n",
      "9    170.000000\n",
      "Name: Amazon, dtype: float64\n"
     ]
    }
   ],
   "source": [
    "print(dfCompleto['Amazon'].mean())\n",
    "print(dfCompleto['Amazon'].median())\n",
    "print(dfCompleto['Amazon'].mode())\n"
   ]
  },
  {
   "cell_type": "code",
   "execution_count": 68,
   "metadata": {},
   "outputs": [
    {
     "name": "stdout",
     "output_type": "stream",
     "text": [
      "159.58670170919714\n",
      "182.4499969482422\n",
      "0     14.641333\n",
      "1     16.900000\n",
      "2     21.148001\n",
      "3    194.699997\n",
      "4    238.210007\n",
      "5    288.089996\n",
      "Name: Tesla, dtype: float64\n"
     ]
    }
   ],
   "source": [
    "print(dfCompleto['Tesla'].mean())\n",
    "print(dfCompleto['Tesla'].median())\n",
    "print(dfCompleto['Tesla'].mode())"
   ]
  },
  {
   "cell_type": "code",
   "execution_count": 69,
   "metadata": {},
   "outputs": [
    {
     "name": "stdout",
     "output_type": "stream",
     "text": [
      "226.7173926891775\n",
      "125.3499984741211\n",
      "0    145.860001\n",
      "Name: Apple, dtype: float64\n"
     ]
    }
   ],
   "source": [
    "print(dfCompleto['Meta'].mean())\n",
    "print(dfCompleto['Apple'].median())\n",
    "print(dfCompleto['Apple'].mode())"
   ]
  },
  {
   "cell_type": "code",
   "execution_count": 70,
   "metadata": {},
   "outputs": [
    {
     "name": "stdout",
     "output_type": "stream",
     "text": [
      "218.15378215684134\n",
      "226.5800018310547\n",
      "0     102.800003\n",
      "1     136.270004\n",
      "2     137.520004\n",
      "3     137.779999\n",
      "4     138.119995\n",
      "5     138.429993\n",
      "6     138.899994\n",
      "7     139.100006\n",
      "8     157.410004\n",
      "9     183.630005\n",
      "10    184.910004\n",
      "11    202.539993\n",
      "12    208.250000\n",
      "13    213.020004\n",
      "14    214.250000\n",
      "15    219.660004\n",
      "16    232.899994\n",
      "17    234.240005\n",
      "18    235.770004\n",
      "19    236.479996\n",
      "20    244.490005\n",
      "21    247.399994\n",
      "22    252.509995\n",
      "23    253.250000\n",
      "24    254.080002\n",
      "25    276.440002\n",
      "26    290.730011\n",
      "27    294.850006\n",
      "28    299.500000\n",
      "Name: Microsoft, dtype: float64\n"
     ]
    }
   ],
   "source": [
    "print(dfCompleto['Microsoft'].mean())\n",
    "print(dfCompleto['Microsoft'].median())\n",
    "print(dfCompleto['Microsoft'].mode())\n"
   ]
  }
 ],
 "metadata": {
  "kernelspec": {
   "display_name": "Python 3",
   "language": "python",
   "name": "python3"
  },
  "language_info": {
   "codemirror_mode": {
    "name": "ipython",
    "version": 3
   },
   "file_extension": ".py",
   "mimetype": "text/x-python",
   "name": "python",
   "nbconvert_exporter": "python",
   "pygments_lexer": "ipython3",
   "version": "3.10.1"
  },
  "orig_nbformat": 4
 },
 "nbformat": 4,
 "nbformat_minor": 2
}
